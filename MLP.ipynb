{
  "nbformat": 4,
  "nbformat_minor": 0,
  "metadata": {
    "colab": {
      "provenance": [],
      "authorship_tag": "ABX9TyM9m5Bbscd8tyh/RO9e9p2g",
      "include_colab_link": true
    },
    "kernelspec": {
      "name": "python3",
      "display_name": "Python 3"
    },
    "language_info": {
      "name": "python"
    }
  },
  "cells": [
    {
      "cell_type": "markdown",
      "metadata": {
        "id": "view-in-github",
        "colab_type": "text"
      },
      "source": [
        "<a href=\"https://colab.research.google.com/github/sreenesh-reddy/Infosys-Springboard-Internship/blob/main/MLP.ipynb\" target=\"_parent\"><img src=\"https://colab.research.google.com/assets/colab-badge.svg\" alt=\"Open In Colab\"/></a>"
      ]
    },
    {
      "cell_type": "code",
      "execution_count": 1,
      "metadata": {
        "colab": {
          "base_uri": "https://localhost:8080/"
        },
        "id": "ldl_6LwznUVZ",
        "outputId": "8bd3175f-6f79-4a24-ee15-8cf30958cd0a"
      },
      "outputs": [
        {
          "output_type": "stream",
          "name": "stdout",
          "text": [
            "Downloading http://yann.lecun.com/exdb/mnist/train-images-idx3-ubyte.gz\n",
            "Failed to download (trying next):\n",
            "HTTP Error 403: Forbidden\n",
            "\n",
            "Downloading https://ossci-datasets.s3.amazonaws.com/mnist/train-images-idx3-ubyte.gz\n",
            "Downloading https://ossci-datasets.s3.amazonaws.com/mnist/train-images-idx3-ubyte.gz to ./data/MNIST/raw/train-images-idx3-ubyte.gz\n"
          ]
        },
        {
          "output_type": "stream",
          "name": "stderr",
          "text": [
            "100%|██████████| 9.91M/9.91M [00:00<00:00, 15.9MB/s]\n"
          ]
        },
        {
          "output_type": "stream",
          "name": "stdout",
          "text": [
            "Extracting ./data/MNIST/raw/train-images-idx3-ubyte.gz to ./data/MNIST/raw\n",
            "\n",
            "Downloading http://yann.lecun.com/exdb/mnist/train-labels-idx1-ubyte.gz\n",
            "Failed to download (trying next):\n",
            "HTTP Error 403: Forbidden\n",
            "\n",
            "Downloading https://ossci-datasets.s3.amazonaws.com/mnist/train-labels-idx1-ubyte.gz\n",
            "Downloading https://ossci-datasets.s3.amazonaws.com/mnist/train-labels-idx1-ubyte.gz to ./data/MNIST/raw/train-labels-idx1-ubyte.gz\n"
          ]
        },
        {
          "output_type": "stream",
          "name": "stderr",
          "text": [
            "100%|██████████| 28.9k/28.9k [00:00<00:00, 524kB/s]\n"
          ]
        },
        {
          "output_type": "stream",
          "name": "stdout",
          "text": [
            "Extracting ./data/MNIST/raw/train-labels-idx1-ubyte.gz to ./data/MNIST/raw\n",
            "\n",
            "Downloading http://yann.lecun.com/exdb/mnist/t10k-images-idx3-ubyte.gz\n",
            "Failed to download (trying next):\n",
            "HTTP Error 403: Forbidden\n",
            "\n",
            "Downloading https://ossci-datasets.s3.amazonaws.com/mnist/t10k-images-idx3-ubyte.gz\n",
            "Downloading https://ossci-datasets.s3.amazonaws.com/mnist/t10k-images-idx3-ubyte.gz to ./data/MNIST/raw/t10k-images-idx3-ubyte.gz\n"
          ]
        },
        {
          "output_type": "stream",
          "name": "stderr",
          "text": [
            "100%|██████████| 1.65M/1.65M [00:00<00:00, 4.35MB/s]\n"
          ]
        },
        {
          "output_type": "stream",
          "name": "stdout",
          "text": [
            "Extracting ./data/MNIST/raw/t10k-images-idx3-ubyte.gz to ./data/MNIST/raw\n",
            "\n",
            "Downloading http://yann.lecun.com/exdb/mnist/t10k-labels-idx1-ubyte.gz\n",
            "Failed to download (trying next):\n",
            "HTTP Error 403: Forbidden\n",
            "\n",
            "Downloading https://ossci-datasets.s3.amazonaws.com/mnist/t10k-labels-idx1-ubyte.gz\n",
            "Downloading https://ossci-datasets.s3.amazonaws.com/mnist/t10k-labels-idx1-ubyte.gz to ./data/MNIST/raw/t10k-labels-idx1-ubyte.gz\n"
          ]
        },
        {
          "output_type": "stream",
          "name": "stderr",
          "text": [
            "100%|██████████| 4.54k/4.54k [00:00<00:00, 4.47MB/s]\n"
          ]
        },
        {
          "output_type": "stream",
          "name": "stdout",
          "text": [
            "Extracting ./data/MNIST/raw/t10k-labels-idx1-ubyte.gz to ./data/MNIST/raw\n",
            "\n",
            "Epoch 1/10, Loss: 0.2372, Accuracy: 93.00%\n",
            "Epoch 2/10, Loss: 0.1225, Accuracy: 96.23%\n",
            "Epoch 3/10, Loss: 0.0980, Accuracy: 96.96%\n",
            "Epoch 4/10, Loss: 0.0790, Accuracy: 97.52%\n",
            "Epoch 5/10, Loss: 0.0724, Accuracy: 97.68%\n",
            "Epoch 6/10, Loss: 0.0627, Accuracy: 97.98%\n",
            "Epoch 7/10, Loss: 0.0557, Accuracy: 98.22%\n",
            "Epoch 8/10, Loss: 0.0524, Accuracy: 98.26%\n",
            "Epoch 9/10, Loss: 0.0470, Accuracy: 98.42%\n",
            "Epoch 10/10, Loss: 0.0425, Accuracy: 98.53%\n",
            "Test Accuracy: 98.22%\n"
          ]
        }
      ],
      "source": [
        "import torch\n",
        "import torch.nn as nn\n",
        "import torch.optim as optim\n",
        "from torch.utils.data import DataLoader\n",
        "from torchvision import datasets, transforms\n",
        "\n",
        "# Define an improved MLP model with batch normalization and dropout for better regularization and stability\n",
        "class ImprovedMLP(nn.Module):\n",
        "    def __init__(self):\n",
        "        super(ImprovedMLP, self).__init__()\n",
        "        # Fully connected layers\n",
        "        self.fc1 = nn.Linear(28 * 28, 512)  # Input: 784 (flattened image), Output: 512 neurons\n",
        "        self.fc2 = nn.Linear(512, 256)      # Input: 512, Output: 256 neurons\n",
        "        self.fc3 = nn.Linear(256, 10)       # Input: 256, Output: 10 (number of classes)\n",
        "\n",
        "        self.relu = nn.ReLU()               # Activation function: ReLU for non-linearity\n",
        "        self.softmax = nn.Softmax(dim=1)    # Softmax for probabilistic outputs (not used in training)\n",
        "\n",
        "        # Regularization techniques\n",
        "        self.dropout = nn.Dropout(0.3)      # Dropout to prevent overfitting\n",
        "        self.bn1 = nn.BatchNorm1d(512)      # Batch normalization after the first layer\n",
        "        self.bn2 = nn.BatchNorm1d(256)      # Batch normalization after the second layer\n",
        "\n",
        "    def forward(self, x):\n",
        "        # Flatten the input tensor: (batch_size, 28, 28) -> (batch_size, 784)\n",
        "        x = x.view(-1, 28 * 28)\n",
        "\n",
        "        # First layer: Fully connected -> BatchNorm -> ReLU -> Dropout\n",
        "        x = self.fc1(x)\n",
        "        x = self.bn1(x)\n",
        "        x = self.relu(x)\n",
        "        x = self.dropout(x)\n",
        "\n",
        "        # Second layer: Fully connected -> BatchNorm -> ReLU -> Dropout\n",
        "        x = self.fc2(x)\n",
        "        x = self.bn2(x)\n",
        "        x = self.relu(x)\n",
        "        x = self.dropout(x)\n",
        "\n",
        "        # Output layer: Fully connected\n",
        "        x = self.fc3(x)\n",
        "        return x  # Return logits (no softmax when using CrossEntropyLoss)\n",
        "\n",
        "# Set the device for training and testing\n",
        "device = torch.device(\"cuda\" if torch.cuda.is_available() else \"cpu\")\n",
        "\n",
        "# Transform the data: Convert to tensors and normalize to [-1, 1] range\n",
        "transform = transforms.Compose([\n",
        "    transforms.ToTensor(),                # Convert image to tensor\n",
        "    transforms.Normalize((0.5,), (0.5,)) # Normalize pixel values\n",
        "])\n",
        "\n",
        "# Load the MNIST dataset\n",
        "train_dataset = datasets.MNIST(root='./data', train=True, download=True, transform=transform)\n",
        "test_dataset = datasets.MNIST(root='./data', train=False, download=True, transform=transform)\n",
        "\n",
        "# DataLoaders for batching and shuffling\n",
        "train_loader = DataLoader(train_dataset, batch_size=64, shuffle=True)  # Shuffle training data\n",
        "test_loader = DataLoader(test_dataset, batch_size=64, shuffle=False)   # No shuffle for testing\n",
        "\n",
        "# Instantiate the model, loss function, and optimizer\n",
        "model = ImprovedMLP().to(device)           # Initialize the model and move to device (CPU/GPU)\n",
        "criterion = nn.CrossEntropyLoss()          # Loss function: CrossEntropyLoss (combines softmax and log loss)\n",
        "optimizer = optim.Adam(model.parameters(), lr=0.001)  # Optimizer: Adam with a learning rate of 0.001\n",
        "\n",
        "# Training loop\n",
        "epochs = 10                                # Number of epochs to train\n",
        "for epoch in range(epochs):\n",
        "    model.train()                          # Set the model to training mode\n",
        "    running_loss = 0.0                     # Accumulate the loss for this epoch\n",
        "    correct = 0                            # Count of correctly predicted samples\n",
        "    total = 0                              # Total number of samples\n",
        "\n",
        "    for inputs, labels in train_loader:\n",
        "        inputs, labels = inputs.to(device), labels.to(device)  # Move data to device\n",
        "\n",
        "        # Forward pass\n",
        "        outputs = model(inputs)\n",
        "        loss = criterion(outputs, labels)  # Calculate the loss\n",
        "\n",
        "        # Backward pass and optimization\n",
        "        optimizer.zero_grad()              # Clear previous gradients\n",
        "        loss.backward()                    # Compute gradients\n",
        "        optimizer.step()                   # Update model weights\n",
        "\n",
        "        # Track statistics\n",
        "        running_loss += loss.item()\n",
        "        _, predicted = torch.max(outputs, 1)  # Get predicted class indices\n",
        "        total += labels.size(0)\n",
        "        correct += (predicted == labels).sum().item()  # Count correct predictions\n",
        "\n",
        "    # Print epoch statistics\n",
        "    print(f\"Epoch {epoch+1}/{epochs}, Loss: {running_loss/len(train_loader):.4f}, Accuracy: {100 * correct / total:.2f}%\")\n",
        "\n",
        "# Testing loop\n",
        "model.eval()                               # Set the model to evaluation mode\n",
        "correct = 0                                # Count of correctly predicted samples\n",
        "total = 0                                  # Total number of samples\n",
        "\n",
        "with torch.no_grad():                      # Disable gradient calculation for testing\n",
        "    for inputs, labels in test_loader:\n",
        "        inputs, labels = inputs.to(device), labels.to(device)  # Move data to device\n",
        "        outputs = model(inputs)           # Forward pass\n",
        "        _, predicted = torch.max(outputs, 1)  # Get predicted class indices\n",
        "        total += labels.size(0)\n",
        "        correct += (predicted == labels).sum().item()  # Count correct predictions\n",
        "\n",
        "# Print test accuracy\n",
        "print(f\"Test Accuracy: {100 * correct / total:.2f}%\")\n"
      ]
    },
    {
      "cell_type": "code",
      "source": [
        "import torch\n",
        "import torch.nn as nn\n",
        "import torch.optim as optim\n",
        "from torch.utils.data import DataLoader\n",
        "from torchvision import datasets, transforms\n",
        "\n",
        "# Improved MLP model with more layers and batch normalization\n",
        "class ImprovedMLP(nn.Module):\n",
        "    def __init__(self):\n",
        "        super(ImprovedMLP, self).__init__()\n",
        "        # Input layer: 784 (28x28 images), first hidden layer: 512 neurons, second hidden layer: 256 neurons, output layer: 10 classes\n",
        "        self.fc1 = nn.Linear(28 * 28, 512)\n",
        "        self.fc2 = nn.Linear(512, 256)\n",
        "        self.fc3 = nn.Linear(256, 10)\n",
        "\n",
        "        self.relu = nn.ReLU()\n",
        "        self.softmax = nn.Softmax(dim=1)\n",
        "\n",
        "        # Adding Dropout for regularization\n",
        "        self.dropout = nn.Dropout(0.3)\n",
        "\n",
        "        # Batch normalization to stabilize training\n",
        "        self.bn1 = nn.BatchNorm1d(512)\n",
        "        self.bn2 = nn.BatchNorm1d(256)\n",
        "\n",
        "    def forward(self, x):\n",
        "        x = x.view(-1, 28 * 28)  # Flatten the image (batch_size, 28, 28) -> (batch_size, 784)\n",
        "        x = self.fc1(x)\n",
        "        x = self.bn1(x)  # Apply batch normalization\n",
        "        x = self.relu(x)\n",
        "        x = self.dropout(x)  # Apply dropout\n",
        "\n",
        "        x = self.fc2(x)\n",
        "        x = self.bn2(x)  # Apply batch normalization\n",
        "        x = self.relu(x)\n",
        "        x = self.dropout(x)  # Apply dropout\n",
        "\n",
        "        x = self.fc3(x)\n",
        "        return x  # No need for softmax in the final layer when using CrossEntropyLoss\n",
        "\n",
        "# Set device to GPU if available\n",
        "device = torch.device(\"cuda\" if torch.cuda.is_available() else \"cpu\")\n",
        "\n",
        "# Load MNIST data\n",
        "transform = transforms.Compose([transforms.ToTensor(), transforms.Normalize((0.5,), (0.5,))])\n",
        "\n",
        "train_dataset = datasets.MNIST(root='./data', train=True, download=True, transform=transform)\n",
        "test_dataset = datasets.MNIST(root='./data', train=False, download=True, transform=transform)\n",
        "\n",
        "train_loader = DataLoader(train_dataset, batch_size=64, shuffle=True)\n",
        "test_loader = DataLoader(test_dataset, batch_size=64, shuffle=False)\n",
        "\n",
        "# Instantiate the model, loss function, and optimizer\n",
        "model = ImprovedMLP().to(device)\n",
        "criterion = nn.CrossEntropyLoss()\n",
        "optimizer = optim.Adam(model.parameters(), lr=0.001)\n",
        "\n",
        "# Training loop with increased epochs\n",
        "epochs = 10\n",
        "for epoch in range(epochs):\n",
        "    model.train()  # Set model to training mode\n",
        "    running_loss = 0.0\n",
        "    correct = 0\n",
        "    total = 0\n",
        "\n",
        "    for inputs, labels in train_loader:\n",
        "        inputs, labels = inputs.to(device), labels.to(device)\n",
        "\n",
        "        # Forward pass\n",
        "        outputs = model(inputs)\n",
        "        loss = criterion(outputs, labels)\n",
        "\n",
        "        # Backward pass and optimization\n",
        "        optimizer.zero_grad()\n",
        "        loss.backward()\n",
        "        optimizer.step()\n",
        "\n",
        "        # Calculate statistics\n",
        "        running_loss += loss.item()\n",
        "        _, predicted = torch.max(outputs, 1)\n",
        "        total += labels.size(0)\n",
        "        correct += (predicted == labels).sum().item()\n",
        "\n",
        "    print(f\"Epoch {epoch+1}/{epochs}, Loss: {running_loss/len(train_loader):.4f}, Accuracy: {100 * correct / total:.2f}%\")\n",
        "\n",
        "# Testing loop\n",
        "model.eval()  # Set model to evaluation mode\n",
        "correct = 0\n",
        "total = 0\n",
        "\n",
        "with torch.no_grad():\n",
        "    for inputs, labels in test_loader:\n",
        "        inputs, labels = inputs.to(device), labels.to(device)\n",
        "        outputs = model(inputs)\n",
        "        _, predicted = torch.max(outputs, 1)\n",
        "        total += labels.size(0)\n",
        "        correct += (predicted == labels).sum().item()\n",
        "\n",
        "print(f\"Test Accuracy: {100 * correct / total:.2f}%\")"
      ],
      "metadata": {
        "colab": {
          "base_uri": "https://localhost:8080/"
        },
        "id": "NVE7K1Wk9iDt",
        "outputId": "f093328d-eaf5-489d-914d-5883a4a88dc0"
      },
      "execution_count": 2,
      "outputs": [
        {
          "output_type": "stream",
          "name": "stdout",
          "text": [
            "Epoch 1/10, Loss: 0.2390, Accuracy: 93.02%\n",
            "Epoch 2/10, Loss: 0.1238, Accuracy: 96.17%\n",
            "Epoch 3/10, Loss: 0.0988, Accuracy: 96.82%\n",
            "Epoch 4/10, Loss: 0.0816, Accuracy: 97.45%\n",
            "Epoch 5/10, Loss: 0.0707, Accuracy: 97.74%\n",
            "Epoch 6/10, Loss: 0.0632, Accuracy: 97.92%\n",
            "Epoch 7/10, Loss: 0.0559, Accuracy: 98.16%\n",
            "Epoch 8/10, Loss: 0.0508, Accuracy: 98.37%\n",
            "Epoch 9/10, Loss: 0.0468, Accuracy: 98.46%\n",
            "Epoch 10/10, Loss: 0.0428, Accuracy: 98.54%\n",
            "Test Accuracy: 98.16%\n"
          ]
        }
      ]
    },
    {
      "cell_type": "code",
      "source": [],
      "metadata": {
        "id": "aBCWwcnb9kNY"
      },
      "execution_count": null,
      "outputs": []
    }
  ]
}