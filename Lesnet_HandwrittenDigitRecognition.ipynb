{
  "nbformat": 4,
  "nbformat_minor": 0,
  "metadata": {
    "colab": {
      "provenance": [],
      "authorship_tag": "ABX9TyNg68Yd1IxG66JpRpPcubuZ",
      "include_colab_link": true
    },
    "kernelspec": {
      "name": "python3",
      "display_name": "Python 3"
    },
    "language_info": {
      "name": "python"
    }
  },
  "cells": [
    {
      "cell_type": "markdown",
      "metadata": {
        "id": "view-in-github",
        "colab_type": "text"
      },
      "source": [
        "<a href=\"https://colab.research.google.com/github/sreenesh-reddy/Infosys-Springboard-Internship/blob/main/Lesnet_HandwrittenDigitRecognition.ipynb\" target=\"_parent\"><img src=\"https://colab.research.google.com/assets/colab-badge.svg\" alt=\"Open In Colab\"/></a>"
      ]
    },
    {
      "cell_type": "code",
      "source": [
        "# Importing PyTorch, a library for building and training machine learning models\n",
        "import torch\n",
        "\n",
        "# Importing modules for defining neural network layers and architectures\n",
        "import torch.nn as nn\n",
        "\n",
        "# Importing optimization module to adjust weights during training\n",
        "import torch.optim as optim\n",
        "\n",
        "# Importing torchvision for working with datasets and applying transformations\n",
        "from torchvision import datasets, transforms\n",
        "\n",
        "# Importing DataLoader to handle batching and shuffling of datasets\n",
        "from torch.utils.data import DataLoader\n",
        "\n",
        "# Importing matplotlib for plotting and visualizing data\n",
        "import matplotlib.pyplot as plt\n"
      ],
      "metadata": {
        "id": "L1UvFC_OLRw8"
      },
      "execution_count": 1,
      "outputs": []
    },
    {
      "cell_type": "code",
      "source": [
        "# Define transformations for the dataset\n",
        "transform = transforms.Compose([\n",
        "    transforms.ToTensor(),  # Convert images to PyTorch tensors (from [0, 255] to [0, 1])\n",
        "    transforms.Normalize((0.5,), (0.5,))  # Normalize pixel values to the range [-1, 1]\n",
        "])\n",
        "\n",
        "# Load the MNIST training dataset\n",
        "train_dataset = datasets.MNIST(\n",
        "    root='./data',            # Directory to store the data\n",
        "    train=True,               # Load the training set\n",
        "    download=True,            # Download the dataset if not already downloaded\n",
        "    transform=transform       # Apply the transformations defined above\n",
        ")\n",
        "\n",
        "# Load the MNIST test dataset\n",
        "test_dataset = datasets.MNIST(\n",
        "    root='./data',            # Directory to store the data\n",
        "    train=False,              # Load the test set\n",
        "    download=True,            # Download the dataset if not already downloaded\n",
        "    transform=transform       # Apply the transformations defined above\n",
        ")\n",
        "\n",
        "# Create a DataLoader for the training dataset\n",
        "train_loader = DataLoader(\n",
        "    train_dataset,            # Dataset to load\n",
        "    batch_size=64,            # Number of images per batch\n",
        "    shuffle=True              # Shuffle the data for better training\n",
        ")\n",
        "\n",
        "# Create a DataLoader for the test dataset\n",
        "test_loader = DataLoader(\n",
        "    test_dataset,             # Dataset to load\n",
        "    batch_size=64,            # Number of images per batch\n",
        "    shuffle=False             # No need to shuffle test data\n",
        ")\n"
      ],
      "metadata": {
        "colab": {
          "base_uri": "https://localhost:8080/"
        },
        "id": "mEPmF8sZLNtA",
        "outputId": "fe227a15-93be-4b69-a846-dbfdf2663195"
      },
      "execution_count": 2,
      "outputs": [
        {
          "output_type": "stream",
          "name": "stdout",
          "text": [
            "Downloading http://yann.lecun.com/exdb/mnist/train-images-idx3-ubyte.gz\n",
            "Failed to download (trying next):\n",
            "HTTP Error 403: Forbidden\n",
            "\n",
            "Downloading https://ossci-datasets.s3.amazonaws.com/mnist/train-images-idx3-ubyte.gz\n",
            "Downloading https://ossci-datasets.s3.amazonaws.com/mnist/train-images-idx3-ubyte.gz to ./data/MNIST/raw/train-images-idx3-ubyte.gz\n"
          ]
        },
        {
          "output_type": "stream",
          "name": "stderr",
          "text": [
            "100%|██████████| 9.91M/9.91M [00:00<00:00, 16.1MB/s]\n"
          ]
        },
        {
          "output_type": "stream",
          "name": "stdout",
          "text": [
            "Extracting ./data/MNIST/raw/train-images-idx3-ubyte.gz to ./data/MNIST/raw\n",
            "\n",
            "Downloading http://yann.lecun.com/exdb/mnist/train-labels-idx1-ubyte.gz\n",
            "Failed to download (trying next):\n",
            "HTTP Error 403: Forbidden\n",
            "\n",
            "Downloading https://ossci-datasets.s3.amazonaws.com/mnist/train-labels-idx1-ubyte.gz\n",
            "Downloading https://ossci-datasets.s3.amazonaws.com/mnist/train-labels-idx1-ubyte.gz to ./data/MNIST/raw/train-labels-idx1-ubyte.gz\n"
          ]
        },
        {
          "output_type": "stream",
          "name": "stderr",
          "text": [
            "100%|██████████| 28.9k/28.9k [00:00<00:00, 493kB/s]\n"
          ]
        },
        {
          "output_type": "stream",
          "name": "stdout",
          "text": [
            "Extracting ./data/MNIST/raw/train-labels-idx1-ubyte.gz to ./data/MNIST/raw\n",
            "\n",
            "Downloading http://yann.lecun.com/exdb/mnist/t10k-images-idx3-ubyte.gz\n",
            "Failed to download (trying next):\n",
            "HTTP Error 403: Forbidden\n",
            "\n",
            "Downloading https://ossci-datasets.s3.amazonaws.com/mnist/t10k-images-idx3-ubyte.gz\n",
            "Downloading https://ossci-datasets.s3.amazonaws.com/mnist/t10k-images-idx3-ubyte.gz to ./data/MNIST/raw/t10k-images-idx3-ubyte.gz\n"
          ]
        },
        {
          "output_type": "stream",
          "name": "stderr",
          "text": [
            "100%|██████████| 1.65M/1.65M [00:00<00:00, 3.86MB/s]\n"
          ]
        },
        {
          "output_type": "stream",
          "name": "stdout",
          "text": [
            "Extracting ./data/MNIST/raw/t10k-images-idx3-ubyte.gz to ./data/MNIST/raw\n",
            "\n",
            "Downloading http://yann.lecun.com/exdb/mnist/t10k-labels-idx1-ubyte.gz\n",
            "Failed to download (trying next):\n",
            "HTTP Error 403: Forbidden\n",
            "\n",
            "Downloading https://ossci-datasets.s3.amazonaws.com/mnist/t10k-labels-idx1-ubyte.gz\n",
            "Downloading https://ossci-datasets.s3.amazonaws.com/mnist/t10k-labels-idx1-ubyte.gz to ./data/MNIST/raw/t10k-labels-idx1-ubyte.gz\n"
          ]
        },
        {
          "output_type": "stream",
          "name": "stderr",
          "text": [
            "100%|██████████| 4.54k/4.54k [00:00<00:00, 7.96MB/s]"
          ]
        },
        {
          "output_type": "stream",
          "name": "stdout",
          "text": [
            "Extracting ./data/MNIST/raw/t10k-labels-idx1-ubyte.gz to ./data/MNIST/raw\n",
            "\n"
          ]
        },
        {
          "output_type": "stream",
          "name": "stderr",
          "text": [
            "\n"
          ]
        }
      ]
    },
    {
      "cell_type": "code",
      "execution_count": 3,
      "metadata": {
        "id": "IX0agAxbKfGI"
      },
      "outputs": [],
      "source": [
        "# Define the LeNet-5 model architecture\n",
        "class LeNet5(nn.Module):\n",
        "    def __init__(self):\n",
        "        super(LeNet5, self).__init__()\n",
        "\n",
        "        # Define the first convolutional layer:\n",
        "        # Input: 1 channel (grayscale), Output: 6 channels (feature maps), kernel size = 5, stride = 1, padding = 2 (to maintain size)\n",
        "        self.conv1 = nn.Conv2d(1, 6, kernel_size=5, stride=1, padding=2)  # Output: 6x28x28\n",
        "\n",
        "        # Define average pooling layer with kernel size of 2 and stride of 2\n",
        "        self.pool = nn.AvgPool2d(kernel_size=2, stride=2)  # Output: 6x14x14 after pooling\n",
        "\n",
        "        # Define the second convolutional layer:\n",
        "        # Input: 6 channels, Output: 16 channels, kernel size = 5, stride = 1\n",
        "        self.conv2 = nn.Conv2d(6, 16, kernel_size=5, stride=1)  # Output: 16x10x10\n",
        "\n",
        "        # Fully connected layer with 16 * 5 * 5 input features and 120 output features\n",
        "        self.fc1 = nn.Linear(16 * 5 * 5, 120)\n",
        "\n",
        "        # Second fully connected layer with 120 input features and 84 output features\n",
        "        self.fc2 = nn.Linear(120, 84)\n",
        "\n",
        "        # Third fully connected layer with 84 input features and 10 output features (for 10 classes)\n",
        "        self.fc3 = nn.Linear(84, 10)\n",
        "\n",
        "        # ReLU activation function to apply non-linearity\n",
        "        self.relu = nn.ReLU()\n",
        "\n",
        "    def forward(self, x):\n",
        "        # Apply first convolution + ReLU activation\n",
        "        x = self.relu(self.conv1(x))\n",
        "\n",
        "        # Apply pooling after the first convolution\n",
        "        x = self.pool(x)\n",
        "\n",
        "        # Apply second convolution + ReLU activation\n",
        "        x = self.relu(self.conv2(x))\n",
        "\n",
        "        # Apply pooling after the second convolution\n",
        "        x = self.pool(x)\n",
        "\n",
        "        # Flatten the output to prepare for the fully connected layers\n",
        "        x = x.view(-1, 16 * 5 * 5)\n",
        "\n",
        "        # Apply first fully connected layer + ReLU activation\n",
        "        x = self.relu(self.fc1(x))\n",
        "\n",
        "        # Apply second fully connected layer + ReLU activation\n",
        "        x = self.relu(self.fc2(x))\n",
        "\n",
        "        # Apply the final fully connected layer (output layer)\n",
        "        x = self.fc3(x)\n",
        "\n",
        "        # Return the raw scores for each class (no softmax yet, because we use CrossEntropyLoss which applies it internally)\n",
        "        return x\n",
        "\n",
        "# Initialize model, loss function, and optimizer\n",
        "device = torch.device('cuda' if torch.cuda.is_available() else 'cpu')  # Check if GPU is available\n",
        "model = LeNet5().to(device)  # Move model to the device (CPU or GPU)\n",
        "\n",
        "# CrossEntropyLoss combines softmax and negative log-likelihood loss in one step\n",
        "criterion = nn.CrossEntropyLoss()\n",
        "\n",
        "# Adam optimizer to adjust the model's weights during training\n",
        "optimizer = optim.Adam(model.parameters(), lr=0.001)\n"
      ]
    },
    {
      "cell_type": "code",
      "source": [
        "# Function to train the model\n",
        "def train_model(model, train_loader, criterion, optimizer, epochs=10):\n",
        "    model.train()  # Set the model to training mode (affects layers like dropout/batch norm)\n",
        "\n",
        "    # Loop through each epoch\n",
        "    for epoch in range(epochs):\n",
        "        running_loss = 0.0  # Initialize a variable to track loss during the epoch\n",
        "\n",
        "        # Loop through batches of images and labels in the training data\n",
        "        for images, labels in train_loader:\n",
        "            # Move images and labels to the correct device (GPU/CPU)\n",
        "            images, labels = images.to(device), labels.to(device)\n",
        "\n",
        "            # Forward pass: pass images through the model to get predictions\n",
        "            outputs = model(images)\n",
        "\n",
        "            # Calculate the loss using the model's outputs and true labels\n",
        "            loss = criterion(outputs, labels)\n",
        "\n",
        "            # Zero the gradients to prevent accumulation from previous iterations\n",
        "            optimizer.zero_grad()\n",
        "\n",
        "            # Backward pass: calculate gradients\n",
        "            loss.backward()\n",
        "\n",
        "            # Optimize the model's parameters using the gradients\n",
        "            optimizer.step()\n",
        "\n",
        "            # Add the loss of this batch to the running total\n",
        "            running_loss += loss.item()\n",
        "\n",
        "        # Print the average loss after each epoch\n",
        "        print(f\"Epoch {epoch + 1}/{epochs}, Loss: {running_loss / len(train_loader):.4f}\")\n"
      ],
      "metadata": {
        "id": "5n4r-gFRLWHU"
      },
      "execution_count": 4,
      "outputs": []
    },
    {
      "cell_type": "code",
      "source": [
        "# Function to evaluate the model on the test data\n",
        "def evaluate_model(model, test_loader):\n",
        "    model.eval()  # Set the model to evaluation mode (disables dropout, batch norm, etc.)\n",
        "\n",
        "    correct = 0  # Initialize a counter for correctly predicted labels\n",
        "    total = 0    # Initialize a counter for the total number of labels\n",
        "\n",
        "    # Disable gradient calculation, since we are not updating model parameters during evaluation\n",
        "    with torch.no_grad():\n",
        "        # Loop through the test data\n",
        "        for images, labels in test_loader:\n",
        "            # Move images and labels to the correct device (GPU/CPU)\n",
        "            images, labels = images.to(device), labels.to(device)\n",
        "\n",
        "            # Pass the images through the model to get predictions\n",
        "            outputs = model(images)\n",
        "\n",
        "            # Get the predicted class by selecting the class with the highest score\n",
        "            _, predicted = torch.max(outputs.data, 1)\n",
        "\n",
        "            # Update the total count of images processed\n",
        "            total += labels.size(0)\n",
        "\n",
        "            # Update the count of correct predictions\n",
        "            correct += (predicted == labels).sum().item()\n",
        "\n",
        "    # Print the test accuracy (percentage of correct predictions)\n",
        "    print(f\"Test Accuracy: {100 * correct / total:.2f}%\")\n",
        "\n",
        "# Train the model and evaluate its performance on the test set\n",
        "train_model(model, train_loader, criterion, optimizer, epochs=10)\n",
        "evaluate_model(model, test_loader)\n"
      ],
      "metadata": {
        "colab": {
          "base_uri": "https://localhost:8080/"
        },
        "id": "auFvRNCTLYf2",
        "outputId": "6718188b-4010-49de-caa2-898a9ebb6087"
      },
      "execution_count": 5,
      "outputs": [
        {
          "output_type": "stream",
          "name": "stdout",
          "text": [
            "Epoch 1/10, Loss: 0.3301\n",
            "Epoch 2/10, Loss: 0.0935\n",
            "Epoch 3/10, Loss: 0.0665\n",
            "Epoch 4/10, Loss: 0.0513\n",
            "Epoch 5/10, Loss: 0.0423\n",
            "Epoch 6/10, Loss: 0.0356\n",
            "Epoch 7/10, Loss: 0.0304\n",
            "Epoch 8/10, Loss: 0.0262\n",
            "Epoch 9/10, Loss: 0.0244\n",
            "Epoch 10/10, Loss: 0.0211\n",
            "Test Accuracy: 98.81%\n"
          ]
        }
      ]
    },
    {
      "cell_type": "code",
      "source": [
        "# Function to make predictions and visualize the results\n",
        "def predict(model, test_loader, num_samples=5):\n",
        "    model.eval()  # Set the model to evaluation mode (disables dropout, batch norm, etc.)\n",
        "\n",
        "    # Get an iterator for the test_loader and fetch a batch of images and labels\n",
        "    data_iter = iter(test_loader)\n",
        "    images, labels = next(data_iter)\n",
        "\n",
        "    # Select the first `num_samples` images and labels from the batch and move them to the correct device\n",
        "    images, labels = images[:num_samples].to(device), labels[:num_samples].to(device)\n",
        "\n",
        "    # Get the model's predictions for the images\n",
        "    outputs = model(images)\n",
        "\n",
        "    # Find the predicted class by taking the class with the highest score\n",
        "    _, predicted = torch.max(outputs, 1)\n",
        "\n",
        "    # Visualize the predictions\n",
        "    images = images.cpu().numpy()  # Move images back to CPU and convert to NumPy array for visualization\n",
        "\n",
        "    # Loop through each image and display the image with its true and predicted labels\n",
        "    for i in range(num_samples):\n",
        "        plt.imshow(images[i][0], cmap='gray')  # Display the image in grayscale\n",
        "        plt.title(f\"True: {labels[i].item()}, Pred: {predicted[i].item()}\")  # Show true and predicted labels in the title\n",
        "        plt.show()  # Show the image\n",
        "\n",
        "# Call the function to make predictions and visualize the results\n",
        "predict(model, test_loader)\n"
      ],
      "metadata": {
        "colab": {
          "base_uri": "https://localhost:8080/",
          "height": 1000
        },
        "id": "PklVlMR0La2E",
        "outputId": "00e1968d-2a9f-4894-fcfd-33c520434576"
      },
      "execution_count": 6,
      "outputs": [
        {
          "output_type": "display_data",
          "data": {
            "text/plain": [
              "<Figure size 640x480 with 1 Axes>"
            ],
            "image/png": "[encoded data removed]"
          },
          "metadata": {}
        },
        {
          "output_type": "display_data",
          "data": {
            "text/plain": [
              "<Figure size 640x480 with 1 Axes>"
            ],
            "image/png": "[encoded data removed]"
          },
          "metadata": {}
        },
        {
          "output_type": "display_data",
          "data": {
            "text/plain": [
              "<Figure size 640x480 with 1 Axes>"
            ],
            "image/png": "[encoded data removed]"
          },
          "metadata": {}
        },
        {
          "output_type": "display_data",
          "data": {
            "text/plain": [
              "<Figure size 640x480 with 1 Axes>"
            ],
            "image/png": "[encoded data removed]"
          },
          "metadata": {}
        },
        {
          "output_type": "display_data",
          "data": {
            "text/plain": [
              "<Figure size 640x480 with 1 Axes>"
            ],
            "image/png": "[encoded data removed]"
          },
          "metadata": {}
        }
      ]
    },
    {
      "cell_type": "code",
      "source": [
        "from PIL import Image\n",
        "import torch\n",
        "import torchvision.transforms as transforms\n",
        "\n",
        "# Load your pre-trained model\n",
        "model.eval()\n",
        "# Define the preprocessing for the custom image\n",
        "transform = transforms.Compose([\n",
        "    transforms.Grayscale(num_output_channels=1),  # Ensure it's single channel\n",
        "    transforms.Resize((28, 28)),                  # Resize to 28x28\n",
        "    transforms.ToTensor(),                        # Convert to tensor\n",
        "    transforms.Normalize((0.5,), (0.5,))          # Normalize to [-1, 1]\n",
        "])\n",
        "\n",
        "# Load your custom image\n",
        "def predict_custom_image(image_path, model):\n",
        "    # Open the image\n",
        "    image = Image.open(image_path)\n",
        "\n",
        "    # Preprocess the image\n",
        "    image_tensor = transform(image).unsqueeze(0)  # Add batch dimension\n",
        "\n",
        "    # Move the tensor to the same device as the model\n",
        "    image_tensor = image_tensor.to(device)\n",
        "\n",
        "    # Perform prediction\n",
        "    with torch.no_grad():\n",
        "        output = model(image_tensor)\n",
        "        _, predicted_label = torch.max(output, 1)\n",
        "\n",
        "    return predicted_label.item()\n",
        "\n",
        "# Provide the path to your image\n",
        "image_path = \"/content/col.png\"\n",
        "\n",
        "# Predict the digit\n",
        "predicted_digit = predict_custom_image(image_path, model)\n",
        "print(f\"Predicted digit: {predicted_digit}\")"
      ],
      "metadata": {
        "colab": {
          "base_uri": "https://localhost:8080/"
        },
        "id": "BT5LhnfpLd20",
        "outputId": "a2569f74-1496-46fe-b2dc-d84312081e2a"
      },
      "execution_count": 12,
      "outputs": [
        {
          "output_type": "stream",
          "name": "stdout",
          "text": [
            "Predicted digit: 1\n"
          ]
        }
      ]
    },
    {
      "cell_type": "code",
      "source": [],
      "metadata": {
        "id": "EnMd7bhrM2wT"
      },
      "execution_count": 9,
      "outputs": []
    }
  ]
}